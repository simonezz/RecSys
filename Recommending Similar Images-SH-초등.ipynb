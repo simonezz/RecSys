{
 "cells": [
  {
   "cell_type": "markdown",
   "metadata": {},
   "source": [
    "# 이미지 데이터 준비"
   ]
  },
  {
   "cell_type": "code",
   "execution_count": 1,
   "metadata": {},
   "outputs": [],
   "source": [
    "import pymysql\n",
    "prob_db = pymysql.connect(\n",
    "    user='real', \n",
    "    passwd='vmfl515!dnlf', \n",
    "    host='mathflat-dev-cluster.cluster-ce1us4oyptfa.ap-northeast-2.rds.amazonaws.com', \n",
    "    db='iclass', \n",
    "    charset='utf8'\n",
    ")"
   ]
  },
  {
   "cell_type": "code",
   "execution_count": 2,
   "metadata": {},
   "outputs": [],
   "source": [
    "curs = prob_db.cursor(pymysql.cursors.DictCursor) #dataframe형태로 사용하기 위해 dictcursor사용"
   ]
  },
  {
   "cell_type": "code",
   "execution_count": 3,
   "metadata": {},
   "outputs": [
    {
     "data": {
      "text/plain": [
       "192267"
      ]
     },
     "execution_count": 3,
     "metadata": {},
     "output_type": "execute_result"
    }
   ],
   "source": [
    "sql = 'SELECT * FROM iclass.Table_middle_problems WHERE unitCode LIKE \"1%\" ';\n",
    "curs.execute(sql)"
   ]
  },
  {
   "cell_type": "code",
   "execution_count": 4,
   "metadata": {},
   "outputs": [],
   "source": [
    "result = curs.fetchall()"
   ]
  },
  {
   "cell_type": "code",
   "execution_count": 5,
   "metadata": {},
   "outputs": [
    {
     "data": {
      "text/html": [
       "<div>\n",
       "<style scoped>\n",
       "    .dataframe tbody tr th:only-of-type {\n",
       "        vertical-align: middle;\n",
       "    }\n",
       "\n",
       "    .dataframe tbody tr th {\n",
       "        vertical-align: top;\n",
       "    }\n",
       "\n",
       "    .dataframe thead th {\n",
       "        text-align: right;\n",
       "    }\n",
       "</style>\n",
       "<table border=\"1\" class=\"dataframe\">\n",
       "  <thead>\n",
       "    <tr style=\"text-align: right;\">\n",
       "      <th></th>\n",
       "      <th>ID</th>\n",
       "      <th>unitCode</th>\n",
       "      <th>problemIDByUnit</th>\n",
       "      <th>problemLevel</th>\n",
       "      <th>problemType</th>\n",
       "      <th>problemURL</th>\n",
       "      <th>answerData</th>\n",
       "      <th>totalTimes</th>\n",
       "      <th>correctTimes</th>\n",
       "      <th>curriculumNumber</th>\n",
       "      <th>...</th>\n",
       "      <th>ClassID</th>\n",
       "      <th>NeedCheckLayout</th>\n",
       "      <th>DateTime_Add</th>\n",
       "      <th>DateTime_Update</th>\n",
       "      <th>Delimiter</th>\n",
       "      <th>PreviousConceptCode1</th>\n",
       "      <th>PreviousConceptCode2</th>\n",
       "      <th>PreviousConceptCode3</th>\n",
       "      <th>hwpExist</th>\n",
       "      <th>scorable</th>\n",
       "    </tr>\n",
       "  </thead>\n",
       "  <tbody>\n",
       "    <tr>\n",
       "      <th>0</th>\n",
       "      <td>41649</td>\n",
       "      <td>14100003</td>\n",
       "      <td>0</td>\n",
       "      <td>1</td>\n",
       "      <td>객관식</td>\n",
       "      <td>/math_problems/9/e/4/1/0/9_141000_GbiCu_0_</td>\n",
       "      <td>2</td>\n",
       "      <td>38</td>\n",
       "      <td>34</td>\n",
       "      <td>9</td>\n",
       "      <td>...</td>\n",
       "      <td>0</td>\n",
       "      <td>0</td>\n",
       "      <td>NaT</td>\n",
       "      <td>2019-10-02 12:42:44</td>\n",
       "      <td>0</td>\n",
       "      <td>0</td>\n",
       "      <td>0</td>\n",
       "      <td>0</td>\n",
       "      <td>2</td>\n",
       "      <td>1</td>\n",
       "    </tr>\n",
       "    <tr>\n",
       "      <th>1</th>\n",
       "      <td>41650</td>\n",
       "      <td>14100003</td>\n",
       "      <td>1</td>\n",
       "      <td>1</td>\n",
       "      <td>주관식</td>\n",
       "      <td>/math_problems/9/e/4/1/0/9_141000_GbiCu_1_</td>\n",
       "      <td>None</td>\n",
       "      <td>61</td>\n",
       "      <td>55</td>\n",
       "      <td>9</td>\n",
       "      <td>...</td>\n",
       "      <td>0</td>\n",
       "      <td>0</td>\n",
       "      <td>NaT</td>\n",
       "      <td>2020-01-16 11:18:24</td>\n",
       "      <td>0</td>\n",
       "      <td>0</td>\n",
       "      <td>0</td>\n",
       "      <td>0</td>\n",
       "      <td>2</td>\n",
       "      <td>0</td>\n",
       "    </tr>\n",
       "    <tr>\n",
       "      <th>2</th>\n",
       "      <td>41651</td>\n",
       "      <td>14100003</td>\n",
       "      <td>2</td>\n",
       "      <td>1</td>\n",
       "      <td>객관식</td>\n",
       "      <td>/math_problems/9/e/4/1/0/9_141000_GbiCu_2_</td>\n",
       "      <td>5</td>\n",
       "      <td>59</td>\n",
       "      <td>53</td>\n",
       "      <td>9</td>\n",
       "      <td>...</td>\n",
       "      <td>0</td>\n",
       "      <td>0</td>\n",
       "      <td>NaT</td>\n",
       "      <td>2019-10-02 12:42:44</td>\n",
       "      <td>0</td>\n",
       "      <td>0</td>\n",
       "      <td>0</td>\n",
       "      <td>0</td>\n",
       "      <td>2</td>\n",
       "      <td>1</td>\n",
       "    </tr>\n",
       "    <tr>\n",
       "      <th>3</th>\n",
       "      <td>41652</td>\n",
       "      <td>14100003</td>\n",
       "      <td>3</td>\n",
       "      <td>2</td>\n",
       "      <td>주관식</td>\n",
       "      <td>/math_problems/9/e/4/1/0/9_141000_GbiCu_3_</td>\n",
       "      <td>None</td>\n",
       "      <td>62</td>\n",
       "      <td>55</td>\n",
       "      <td>9</td>\n",
       "      <td>...</td>\n",
       "      <td>0</td>\n",
       "      <td>0</td>\n",
       "      <td>NaT</td>\n",
       "      <td>2019-10-02 12:42:44</td>\n",
       "      <td>0</td>\n",
       "      <td>0</td>\n",
       "      <td>0</td>\n",
       "      <td>0</td>\n",
       "      <td>2</td>\n",
       "      <td>0</td>\n",
       "    </tr>\n",
       "    <tr>\n",
       "      <th>4</th>\n",
       "      <td>41653</td>\n",
       "      <td>14100003</td>\n",
       "      <td>4</td>\n",
       "      <td>1</td>\n",
       "      <td>주관식</td>\n",
       "      <td>/math_problems/9/e/4/1/0/9_141000_GbiCu_4_</td>\n",
       "      <td>None</td>\n",
       "      <td>53</td>\n",
       "      <td>47</td>\n",
       "      <td>9</td>\n",
       "      <td>...</td>\n",
       "      <td>0</td>\n",
       "      <td>0</td>\n",
       "      <td>NaT</td>\n",
       "      <td>2019-10-18 18:11:48</td>\n",
       "      <td>0</td>\n",
       "      <td>0</td>\n",
       "      <td>0</td>\n",
       "      <td>0</td>\n",
       "      <td>2</td>\n",
       "      <td>0</td>\n",
       "    </tr>\n",
       "  </tbody>\n",
       "</table>\n",
       "<p>5 rows × 28 columns</p>\n",
       "</div>"
      ],
      "text/plain": [
       "      ID  unitCode  problemIDByUnit  problemLevel problemType  \\\n",
       "0  41649  14100003                0             1         객관식   \n",
       "1  41650  14100003                1             1         주관식   \n",
       "2  41651  14100003                2             1         객관식   \n",
       "3  41652  14100003                3             2         주관식   \n",
       "4  41653  14100003                4             1         주관식   \n",
       "\n",
       "                                   problemURL answerData  totalTimes  \\\n",
       "0  /math_problems/9/e/4/1/0/9_141000_GbiCu_0_          2          38   \n",
       "1  /math_problems/9/e/4/1/0/9_141000_GbiCu_1_       None          61   \n",
       "2  /math_problems/9/e/4/1/0/9_141000_GbiCu_2_          5          59   \n",
       "3  /math_problems/9/e/4/1/0/9_141000_GbiCu_3_       None          62   \n",
       "4  /math_problems/9/e/4/1/0/9_141000_GbiCu_4_       None          53   \n",
       "\n",
       "   correctTimes  curriculumNumber  ...  ClassID  NeedCheckLayout  \\\n",
       "0            34                 9  ...        0                0   \n",
       "1            55                 9  ...        0                0   \n",
       "2            53                 9  ...        0                0   \n",
       "3            55                 9  ...        0                0   \n",
       "4            47                 9  ...        0                0   \n",
       "\n",
       "   DateTime_Add     DateTime_Update  Delimiter  PreviousConceptCode1  \\\n",
       "0           NaT 2019-10-02 12:42:44          0                     0   \n",
       "1           NaT 2020-01-16 11:18:24          0                     0   \n",
       "2           NaT 2019-10-02 12:42:44          0                     0   \n",
       "3           NaT 2019-10-02 12:42:44          0                     0   \n",
       "4           NaT 2019-10-18 18:11:48          0                     0   \n",
       "\n",
       "   PreviousConceptCode2  PreviousConceptCode3 hwpExist  scorable  \n",
       "0                     0                     0        2         1  \n",
       "1                     0                     0        2         0  \n",
       "2                     0                     0        2         1  \n",
       "3                     0                     0        2         0  \n",
       "4                     0                     0        2         0  \n",
       "\n",
       "[5 rows x 28 columns]"
      ]
     },
     "execution_count": 5,
     "metadata": {},
     "output_type": "execute_result"
    }
   ],
   "source": [
    "import pandas as pd\n",
    "\n",
    "result = pd.DataFrame(result)\n",
    "result.head()"
   ]
  },
  {
   "cell_type": "markdown",
   "metadata": {},
   "source": [
    "# 필요한 컬럼만 가져옴"
   ]
  },
  {
   "cell_type": "code",
   "execution_count": 6,
   "metadata": {},
   "outputs": [],
   "source": [
    "result = result[['ID','unitCode','problemLevel','problemType','problemURL','curriculumNumber','NegativeFeedback']]"
   ]
  },
  {
   "cell_type": "markdown",
   "metadata": {},
   "source": [
    "index를 ID로 바꿈"
   ]
  },
  {
   "cell_type": "code",
   "execution_count": 7,
   "metadata": {},
   "outputs": [],
   "source": [
    "result.set_index(\"ID\",inplace=True)"
   ]
  },
  {
   "cell_type": "code",
   "execution_count": 8,
   "metadata": {},
   "outputs": [
    {
     "data": {
      "text/html": [
       "<div>\n",
       "<style scoped>\n",
       "    .dataframe tbody tr th:only-of-type {\n",
       "        vertical-align: middle;\n",
       "    }\n",
       "\n",
       "    .dataframe tbody tr th {\n",
       "        vertical-align: top;\n",
       "    }\n",
       "\n",
       "    .dataframe thead th {\n",
       "        text-align: right;\n",
       "    }\n",
       "</style>\n",
       "<table border=\"1\" class=\"dataframe\">\n",
       "  <thead>\n",
       "    <tr style=\"text-align: right;\">\n",
       "      <th></th>\n",
       "      <th>unitCode</th>\n",
       "      <th>problemLevel</th>\n",
       "      <th>problemType</th>\n",
       "      <th>problemURL</th>\n",
       "      <th>curriculumNumber</th>\n",
       "      <th>NegativeFeedback</th>\n",
       "    </tr>\n",
       "    <tr>\n",
       "      <th>ID</th>\n",
       "      <th></th>\n",
       "      <th></th>\n",
       "      <th></th>\n",
       "      <th></th>\n",
       "      <th></th>\n",
       "      <th></th>\n",
       "    </tr>\n",
       "  </thead>\n",
       "  <tbody>\n",
       "    <tr>\n",
       "      <th>41649</th>\n",
       "      <td>14100003</td>\n",
       "      <td>1</td>\n",
       "      <td>객관식</td>\n",
       "      <td>/math_problems/9/e/4/1/0/9_141000_GbiCu_0_</td>\n",
       "      <td>9</td>\n",
       "      <td>5</td>\n",
       "    </tr>\n",
       "    <tr>\n",
       "      <th>41650</th>\n",
       "      <td>14100003</td>\n",
       "      <td>1</td>\n",
       "      <td>주관식</td>\n",
       "      <td>/math_problems/9/e/4/1/0/9_141000_GbiCu_1_</td>\n",
       "      <td>9</td>\n",
       "      <td>5</td>\n",
       "    </tr>\n",
       "    <tr>\n",
       "      <th>41651</th>\n",
       "      <td>14100003</td>\n",
       "      <td>1</td>\n",
       "      <td>객관식</td>\n",
       "      <td>/math_problems/9/e/4/1/0/9_141000_GbiCu_2_</td>\n",
       "      <td>9</td>\n",
       "      <td>5</td>\n",
       "    </tr>\n",
       "    <tr>\n",
       "      <th>41652</th>\n",
       "      <td>14100003</td>\n",
       "      <td>2</td>\n",
       "      <td>주관식</td>\n",
       "      <td>/math_problems/9/e/4/1/0/9_141000_GbiCu_3_</td>\n",
       "      <td>9</td>\n",
       "      <td>5</td>\n",
       "    </tr>\n",
       "    <tr>\n",
       "      <th>41653</th>\n",
       "      <td>14100003</td>\n",
       "      <td>1</td>\n",
       "      <td>주관식</td>\n",
       "      <td>/math_problems/9/e/4/1/0/9_141000_GbiCu_4_</td>\n",
       "      <td>9</td>\n",
       "      <td>5</td>\n",
       "    </tr>\n",
       "  </tbody>\n",
       "</table>\n",
       "</div>"
      ],
      "text/plain": [
       "       unitCode  problemLevel problemType  \\\n",
       "ID                                          \n",
       "41649  14100003             1         객관식   \n",
       "41650  14100003             1         주관식   \n",
       "41651  14100003             1         객관식   \n",
       "41652  14100003             2         주관식   \n",
       "41653  14100003             1         주관식   \n",
       "\n",
       "                                       problemURL  curriculumNumber  \\\n",
       "ID                                                                    \n",
       "41649  /math_problems/9/e/4/1/0/9_141000_GbiCu_0_                 9   \n",
       "41650  /math_problems/9/e/4/1/0/9_141000_GbiCu_1_                 9   \n",
       "41651  /math_problems/9/e/4/1/0/9_141000_GbiCu_2_                 9   \n",
       "41652  /math_problems/9/e/4/1/0/9_141000_GbiCu_3_                 9   \n",
       "41653  /math_problems/9/e/4/1/0/9_141000_GbiCu_4_                 9   \n",
       "\n",
       "       NegativeFeedback  \n",
       "ID                       \n",
       "41649                 5  \n",
       "41650                 5  \n",
       "41651                 5  \n",
       "41652                 5  \n",
       "41653                 5  "
      ]
     },
     "execution_count": 8,
     "metadata": {},
     "output_type": "execute_result"
    }
   ],
   "source": [
    "result.head()"
   ]
  },
  {
   "cell_type": "markdown",
   "metadata": {},
   "source": [
    "# Dataframe에서 url를 가져옴"
   ]
  },
  {
   "cell_type": "code",
   "execution_count": 9,
   "metadata": {},
   "outputs": [],
   "source": [
    "UrlList = result['problemURL']"
   ]
  },
  {
   "cell_type": "code",
   "execution_count": 10,
   "metadata": {},
   "outputs": [],
   "source": [
    "import urllib.request\n",
    "import ssl\n",
    "ssl._create_default_https_context = ssl._create_unverified_context"
   ]
  },
  {
   "cell_type": "code",
   "execution_count": 11,
   "metadata": {},
   "outputs": [],
   "source": [
    "import requests"
   ]
  },
  {
   "cell_type": "markdown",
   "metadata": {},
   "source": [
    "# 이미지 다운받지 않고 진행하기"
   ]
  },
  {
   "cell_type": "markdown",
   "metadata": {},
   "source": [
    "<전체 과정>\n",
    "\n",
    "    DataFrame에 저장된 url를 모은 UrlList에서 url를 이용하여 이미지를 불러옴 -> 파일 형식을 png에서 jpg로 바꿈 -> jpg파일를 torchvision transforms을 이용하여 rescaling -> Resnet18을 이용하여 feature vector로 바꿔서 추천"
   ]
  },
  {
   "cell_type": "code",
   "execution_count": 12,
   "metadata": {},
   "outputs": [],
   "source": [
    "import torch\n",
    "from tqdm import tqdm\n",
    "from torchvision import models\n",
    "\n",
    "\n",
    "\n",
    "class Img2VecResnet18():\n",
    "    def __init__(self):\n",
    "        \n",
    "        if torch.cuda.is_available():\n",
    "            self.device = torch.device(\"cuda\")\n",
    "        else:\n",
    "            self.device = torch.device(\"cpu\")\n",
    "        self.numberFeatures = 512\n",
    "        self.modelName = \"resnet-18\"\n",
    "        self.model, self.featureLayer = self.getFeatureLayer()\n",
    "        self.model = self.model.to(self.device)\n",
    "        self.model.eval()\n",
    "        self.toTensor = transforms.ToTensor()\n",
    "        \n",
    "        # normalize the resized images as expected by resnet18\n",
    "        # [0.485, 0.456, 0.406] --> normalized mean value of ImageNet, [0.229, 0.224, 0.225] std of ImageNet\n",
    "        self.normalize = transforms.Normalize(mean=[0.485, 0.456, 0.406], std=[0.229, 0.224, 0.225])\n",
    "        \n",
    "    def getVec(self, img):\n",
    "        image = self.normalize(self.toTensor(img)).unsqueeze(0).to(self.device)\n",
    "        embedding = torch.zeros(1, self.numberFeatures, 1, 1)\n",
    "\n",
    "        def copyData(m, i, o): embedding.copy_(o.data)\n",
    "\n",
    "        h = self.featureLayer.register_forward_hook(copyData)\n",
    "        self.model(image)\n",
    "        h.remove()\n",
    "\n",
    "        return embedding.numpy()[0, :, 0, 0]\n",
    "\n",
    "    def getFeatureLayer(self):\n",
    "        \n",
    "        cnnModel = models.resnet18(pretrained=True)\n",
    "        layer = cnnModel._modules.get('avgpool')\n",
    "        self.layer_output_size = 512\n",
    "        \n",
    "        return cnnModel, layer\n",
    "        "
   ]
  },
  {
   "cell_type": "markdown",
   "metadata": {},
   "source": [
    "allVectors에 dictionary형태로 feature vector저장 ( key : url, value : feature vector )"
   ]
  },
  {
   "cell_type": "code",
   "execution_count": null,
   "metadata": {},
   "outputs": [
    {
     "name": "stderr",
     "output_type": "stream",
     "text": [
      "  0%|          | 2/192267 [00:00<3:51:25, 13.85it/s]"
     ]
    },
    {
     "name": "stdout",
     "output_type": "stream",
     "text": [
      "Converting images to feature vectors:\n"
     ]
    },
    {
     "name": "stderr",
     "output_type": "stream",
     "text": [
      " 57%|█████▋    | 109288/192267 [3:19:57<3:13:31,  7.15it/s] IOPub message rate exceeded.\n",
      "The notebook server will temporarily stop sending output\n",
      "to the client in order to avoid crashing it.\n",
      "To change this limit, set the config variable\n",
      "`--NotebookApp.iopub_msg_rate_limit`.\n",
      "\n",
      "Current values:\n",
      "NotebookApp.iopub_msg_rate_limit=1000.0 (msgs/sec)\n",
      "NotebookApp.rate_limit_window=3.0 (secs)\n",
      "\n",
      " 70%|███████   | 134707/192267 [4:06:28<1:40:40,  9.53it/s] "
     ]
    }
   ],
   "source": [
    "import os,io\n",
    "from PIL import Image\n",
    "from torchvision import transforms\n",
    "\n",
    "# generate vectors for all the images in the set\n",
    "img2vec = Img2VecResnet18() \n",
    "\n",
    "allVectors = {}\n",
    "inputDim = (224,224)\n",
    "print(\"Converting images to feature vectors:\")\n",
    "\n",
    "unavailable_url = []\n",
    "\n",
    "for ind in tqdm(list(UrlList.index)):\n",
    "    \n",
    "    url = UrlList[ind]\n",
    "    url = \"https://s3.ap-northeast-2.amazonaws.com/mathflat\"+ url + \"p.png\"\n",
    "    url = url.replace(\"/math_problems/\",\"/math_problems/d/\")\n",
    "   \n",
    "    try:\n",
    "        \n",
    "        res = requests.get(url)\n",
    "        img = Image.open(io.BytesIO(res.content)).convert('RGB') #png image to jpg\n",
    "        \n",
    "        # image crop -> 224X224 sized\n",
    "        \n",
    "        transformationForCNNInput = transforms.Compose([transforms.Resize(inputDim)])\n",
    "        newI = transformationForCNNInput(img)\n",
    "    \n",
    "        # ResNet18 이용해서 feature vector로 변환\n",
    "       \n",
    "        vec = img2vec.getVec(newI)\n",
    "        \n",
    "        allVectors[ind] = vec\n",
    "        \n",
    "    except: \n",
    "        \n",
    "        unavailable_url.append(url)\n",
    "        pass\n",
    "   "
   ]
  },
  {
   "cell_type": "markdown",
   "metadata": {},
   "source": [
    "# Cosine similarity\n",
    "Calculate for all vectors the cosine similarity to the other vectors.\n",
    "Note that this matrix may become huge, hence infefficient, with many thousands of images"
   ]
  },
  {
   "cell_type": "markdown",
   "metadata": {},
   "source": [
    "            같은 UnitCode인 vector랑만 비교하면 된다...문제 key를 url로 했는데 ID로 해야 같은 UnitCode문제를 불러오기 쉽지 않을까"
   ]
  },
  {
   "cell_type": "code",
   "execution_count": 15,
   "metadata": {},
   "outputs": [],
   "source": [
    "import pickle\n",
    "with open(\"FeatureVectors.txt\",'wb') as f:\n",
    "    pickle.dump(allVectors,f)"
   ]
  },
  {
   "cell_type": "code",
   "execution_count": 17,
   "metadata": {},
   "outputs": [
    {
     "data": {
      "text/plain": [
       "250121"
      ]
     },
     "execution_count": 17,
     "metadata": {},
     "output_type": "execute_result"
    }
   ],
   "source": [
    "len(allVectors.keys())"
   ]
  },
  {
   "cell_type": "code",
   "execution_count": 16,
   "metadata": {},
   "outputs": [
    {
     "ename": "MemoryError",
     "evalue": "Unable to allocate array with shape (250121, 250121) and data type float32",
     "output_type": "error",
     "traceback": [
      "\u001b[0;31m---------------------------------------------------------------------------\u001b[0m",
      "\u001b[0;31mMemoryError\u001b[0m                               Traceback (most recent call last)",
      "\u001b[0;32m<ipython-input-16-120d3914d874>\u001b[0m in \u001b[0;36m<module>\u001b[0;34m\u001b[0m\n\u001b[1;32m     11\u001b[0m     \u001b[0;32mreturn\u001b[0m \u001b[0mmatrix\u001b[0m\u001b[0;34m\u001b[0m\u001b[0;34m\u001b[0m\u001b[0m\n\u001b[1;32m     12\u001b[0m \u001b[0;34m\u001b[0m\u001b[0m\n\u001b[0;32m---> 13\u001b[0;31m \u001b[0msimilarityMatrix\u001b[0m \u001b[0;34m=\u001b[0m \u001b[0mgetSimilarityMatrix\u001b[0m\u001b[0;34m(\u001b[0m\u001b[0mallVectors\u001b[0m\u001b[0;34m)\u001b[0m\u001b[0;34m\u001b[0m\u001b[0;34m\u001b[0m\u001b[0m\n\u001b[0m",
      "\u001b[0;32m<ipython-input-16-120d3914d874>\u001b[0m in \u001b[0;36mgetSimilarityMatrix\u001b[0;34m(vectors)\u001b[0m\n\u001b[1;32m      5\u001b[0m \u001b[0;32mdef\u001b[0m \u001b[0mgetSimilarityMatrix\u001b[0m\u001b[0;34m(\u001b[0m\u001b[0mvectors\u001b[0m\u001b[0;34m)\u001b[0m\u001b[0;34m:\u001b[0m\u001b[0;34m\u001b[0m\u001b[0;34m\u001b[0m\u001b[0m\n\u001b[1;32m      6\u001b[0m     \u001b[0mv\u001b[0m \u001b[0;34m=\u001b[0m \u001b[0mnp\u001b[0m\u001b[0;34m.\u001b[0m\u001b[0marray\u001b[0m\u001b[0;34m(\u001b[0m\u001b[0mlist\u001b[0m\u001b[0;34m(\u001b[0m\u001b[0mvectors\u001b[0m\u001b[0;34m.\u001b[0m\u001b[0mvalues\u001b[0m\u001b[0;34m(\u001b[0m\u001b[0;34m)\u001b[0m\u001b[0;34m)\u001b[0m\u001b[0;34m)\u001b[0m\u001b[0;34m.\u001b[0m\u001b[0mT\u001b[0m\u001b[0;34m\u001b[0m\u001b[0;34m\u001b[0m\u001b[0m\n\u001b[0;32m----> 7\u001b[0;31m     \u001b[0msim\u001b[0m \u001b[0;34m=\u001b[0m \u001b[0mnp\u001b[0m\u001b[0;34m.\u001b[0m\u001b[0minner\u001b[0m\u001b[0;34m(\u001b[0m\u001b[0mv\u001b[0m\u001b[0;34m.\u001b[0m\u001b[0mT\u001b[0m\u001b[0;34m,\u001b[0m \u001b[0mv\u001b[0m\u001b[0;34m.\u001b[0m\u001b[0mT\u001b[0m\u001b[0;34m)\u001b[0m \u001b[0;34m/\u001b[0m \u001b[0;34m(\u001b[0m\u001b[0;34m(\u001b[0m\u001b[0mnp\u001b[0m\u001b[0;34m.\u001b[0m\u001b[0mlinalg\u001b[0m\u001b[0;34m.\u001b[0m\u001b[0mnorm\u001b[0m\u001b[0;34m(\u001b[0m\u001b[0mv\u001b[0m\u001b[0;34m,\u001b[0m \u001b[0maxis\u001b[0m\u001b[0;34m=\u001b[0m\u001b[0;36m0\u001b[0m\u001b[0;34m)\u001b[0m\u001b[0;34m.\u001b[0m\u001b[0mreshape\u001b[0m\u001b[0;34m(\u001b[0m\u001b[0;34m-\u001b[0m\u001b[0;36m1\u001b[0m\u001b[0;34m,\u001b[0m\u001b[0;36m1\u001b[0m\u001b[0;34m)\u001b[0m\u001b[0;34m)\u001b[0m \u001b[0;34m*\u001b[0m \u001b[0;34m(\u001b[0m\u001b[0;34m(\u001b[0m\u001b[0mnp\u001b[0m\u001b[0;34m.\u001b[0m\u001b[0mlinalg\u001b[0m\u001b[0;34m.\u001b[0m\u001b[0mnorm\u001b[0m\u001b[0;34m(\u001b[0m\u001b[0mv\u001b[0m\u001b[0;34m,\u001b[0m \u001b[0maxis\u001b[0m\u001b[0;34m=\u001b[0m\u001b[0;36m0\u001b[0m\u001b[0;34m)\u001b[0m\u001b[0;34m.\u001b[0m\u001b[0mreshape\u001b[0m\u001b[0;34m(\u001b[0m\u001b[0;34m-\u001b[0m\u001b[0;36m1\u001b[0m\u001b[0;34m,\u001b[0m\u001b[0;36m1\u001b[0m\u001b[0;34m)\u001b[0m\u001b[0;34m)\u001b[0m\u001b[0;34m.\u001b[0m\u001b[0mT\u001b[0m\u001b[0;34m)\u001b[0m\u001b[0;34m)\u001b[0m\u001b[0;34m\u001b[0m\u001b[0;34m\u001b[0m\u001b[0m\n\u001b[0m\u001b[1;32m      8\u001b[0m     \u001b[0mkeys\u001b[0m \u001b[0;34m=\u001b[0m \u001b[0mlist\u001b[0m\u001b[0;34m(\u001b[0m\u001b[0mvectors\u001b[0m\u001b[0;34m.\u001b[0m\u001b[0mkeys\u001b[0m\u001b[0;34m(\u001b[0m\u001b[0;34m)\u001b[0m\u001b[0;34m)\u001b[0m\u001b[0;34m\u001b[0m\u001b[0;34m\u001b[0m\u001b[0m\n\u001b[1;32m      9\u001b[0m     \u001b[0mmatrix\u001b[0m \u001b[0;34m=\u001b[0m \u001b[0mpd\u001b[0m\u001b[0;34m.\u001b[0m\u001b[0mDataFrame\u001b[0m\u001b[0;34m(\u001b[0m\u001b[0msim\u001b[0m\u001b[0;34m,\u001b[0m \u001b[0mcolumns\u001b[0m \u001b[0;34m=\u001b[0m \u001b[0mkeys\u001b[0m\u001b[0;34m,\u001b[0m \u001b[0mindex\u001b[0m \u001b[0;34m=\u001b[0m \u001b[0mkeys\u001b[0m\u001b[0;34m)\u001b[0m\u001b[0;34m\u001b[0m\u001b[0;34m\u001b[0m\u001b[0m\n",
      "\u001b[0;32m<__array_function__ internals>\u001b[0m in \u001b[0;36minner\u001b[0;34m(*args, **kwargs)\u001b[0m\n",
      "\u001b[0;31mMemoryError\u001b[0m: Unable to allocate array with shape (250121, 250121) and data type float32"
     ]
    }
   ],
   "source": [
    "# now let us define a function that calculates the cosine similarity entries in the similarity matrix\n",
    "import pandas as pd\n",
    "import numpy as np\n",
    "\n",
    "def getSimilarityMatrix(vectors):\n",
    "    v = np.array(list(vectors.values())).T\n",
    "    sim = np.inner(v.T, v.T) / ((np.linalg.norm(v, axis=0).reshape(-1,1)) * ((np.linalg.norm(v, axis=0).reshape(-1,1)).T))\n",
    "    keys = list(vectors.keys())\n",
    "    matrix = pd.DataFrame(sim, columns = keys, index = keys)\n",
    "    \n",
    "    return matrix\n",
    "        \n",
    "similarityMatrix = getSimilarityMatrix(allVectors)"
   ]
  },
  {
   "cell_type": "code",
   "execution_count": null,
   "metadata": {},
   "outputs": [],
   "source": [
    "allVectors.keys()"
   ]
  },
  {
   "cell_type": "markdown",
   "metadata": {},
   "source": [
    "# Prepare top-k lists\n",
    "Now that the similarity matrix is fully available, the last step is to sort the values per item and store the top similar entries in another data structure"
   ]
  },
  {
   "cell_type": "code",
   "execution_count": null,
   "metadata": {},
   "outputs": [],
   "source": [
    "from numpy.testing import assert_almost_equal\n",
    "\n",
    "k = 4 # the number of top similar images to be stored\n",
    "\n",
    "similarNames = pd.DataFrame(index = similarityMatrix.index, columns = range(k))\n",
    "similarValues = pd.DataFrame(index = similarityMatrix.index, columns = range(k))\n",
    "\n",
    "for j in tqdm(range(similarityMatrix.shape[0])):\n",
    "    kSimilar = similarityMatrix.iloc[j, :].sort_values(ascending = False).head(k)\n",
    "    similarNames.iloc[j, :] = list(kSimilar.index)\n",
    "    similarValues.iloc[j, :] = kSimilar.values"
   ]
  },
  {
   "cell_type": "code",
   "execution_count": null,
   "metadata": {},
   "outputs": [],
   "source": [
    "print(similarNames)"
   ]
  },
  {
   "cell_type": "markdown",
   "metadata": {},
   "source": [
    "# Get and visualize similar images for four example inputs"
   ]
  },
  {
   "cell_type": "code",
   "execution_count": null,
   "metadata": {},
   "outputs": [],
   "source": [
    "import matplotlib.pyplot as plt\n",
    "    \n",
    "# take three examples from the provided image set and plot\n",
    "inputImages = [\"1.jpg\", \"test25.jpg\", \"test30.jpg\", \"7.jpg\"]\n",
    "\n",
    "numCol = 4\n",
    "numRow = 1\n",
    "\n",
    "def setAxes(ax, image, query = False, **kwargs):\n",
    "    value = kwargs.get(\"value\", None)\n",
    "    if query:\n",
    "        ax.set_xlabel(\"Query Image\\n{0}\".format(image), fontsize = 12)\n",
    "    else:\n",
    "        ax.set_xlabel(\"Similarity value {1:1.3f}\\n{0}\".format( image,  value), fontsize = 12)\n",
    "    ax.set_xticks([])\n",
    "    ax.set_yticks([])\n",
    "    \n",
    "def getSimilarImages(image, simNames, simVals):\n",
    "    if image in set(simNames.index):\n",
    "        imgs = list(simNames.loc[image, :])\n",
    "        vals = list(simVals.loc[image, :])\n",
    "        if image in imgs:\n",
    "            assert_almost_equal(max(vals), 1, decimal = 5)\n",
    "            imgs.remove(image)\n",
    "            vals.remove(max(vals))\n",
    "        return imgs, vals\n",
    "    else:\n",
    "        print(\"'{}' Unknown image\".format(image))\n",
    "        \n",
    "def plotSimilarImages(image, simiarNames, similarValues):\n",
    "    simImages, simValues = getSimilarImages(image, similarNames, similarValues)\n",
    "    fig = plt.figure(figsize=(10, 20))\n",
    "    \n",
    "    # now plot the  most simliar images\n",
    "    for j in range(0, numCol*numRow):\n",
    "        ax = []\n",
    "        if j == 0:\n",
    "            img = Image.open(os.path.join(inputDir, image))\n",
    "            ax = fig.add_subplot(numRow, numCol, 1)\n",
    "            setAxes(ax, image, query = True)\n",
    "        else:\n",
    "            img = Image.open(os.path.join(inputDir, simImages[j-1]))\n",
    "            ax.append(fig.add_subplot(numRow, numCol, j+1))\n",
    "            setAxes(ax[-1], simImages[j-1], value = simValues[j-1])\n",
    "        img = img.convert('RGB')\n",
    "        plt.imshow(img)\n",
    "        img.close()\n",
    "    \n",
    "    plt.show()\n",
    "        \n",
    "for image in inputImages:\n",
    "    plotSimilarImages(image, similarNames, similarValues)"
   ]
  },
  {
   "cell_type": "code",
   "execution_count": null,
   "metadata": {},
   "outputs": [],
   "source": [
    "op0"
   ]
  }
 ],
 "metadata": {
  "kernelspec": {
   "display_name": "Python 3",
   "language": "python",
   "name": "python3"
  },
  "language_info": {
   "codemirror_mode": {
    "name": "ipython",
    "version": 3
   },
   "file_extension": ".py",
   "mimetype": "text/x-python",
   "name": "python",
   "nbconvert_exporter": "python",
   "pygments_lexer": "ipython3",
   "version": "3.7.8"
  }
 },
 "nbformat": 4,
 "nbformat_minor": 2
}
