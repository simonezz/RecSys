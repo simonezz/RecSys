{
 "cells": [
  {
   "cell_type": "code",
   "execution_count": 1,
   "metadata": {},
   "outputs": [],
   "source": [
    "import urllib.request\n",
    "import ssl\n",
    "ssl._create_default_https_context = ssl._create_unverified_context"
   ]
  },
  {
   "cell_type": "markdown",
   "metadata": {},
   "source": [
    "# 특정 unitCode (31200003)"
   ]
  },
  {
   "cell_type": "code",
   "execution_count": 2,
   "metadata": {},
   "outputs": [],
   "source": [
    "import cudf\n",
    "import pandas as pd\n",
    "import pymysql\n",
    "prob_db = pymysql.connect(\n",
    "    user='real', \n",
    "    passwd='vmfl515!dnlf', \n",
    "    host='mathflat-dev-cluster.cluster-ce1us4oyptfa.ap-northeast-2.rds.amazonaws.com', \n",
    "    db='iclass', \n",
    "    charset='utf8'\n",
    ")\n",
    "curs = prob_db.cursor(pymysql.cursors.DictCursor) #dataframe형태로 사용\n",
    "\n",
    "sql = \"SELECT * FROM iclass.Table_middle_problems WHERE unitCode LIKE '312%' and hwpExist = 1\" #고등학교, 1학년,2학기\n",
    "curs.execute(sql)\n",
    "result = curs.fetchall()\n",
    "result_df = pd.DataFrame(result)\n",
    "\n"
   ]
  },
  {
   "cell_type": "code",
   "execution_count": 3,
   "metadata": {},
   "outputs": [],
   "source": [
    "result_df.set_index(\"ID\",inplace=True)"
   ]
  },
  {
   "cell_type": "code",
   "execution_count": 4,
   "metadata": {},
   "outputs": [],
   "source": [
    "sample_hwp_list = result_df['problemURL']"
   ]
  },
  {
   "cell_type": "code",
   "execution_count": 5,
   "metadata": {},
   "outputs": [
    {
     "name": "stderr",
     "output_type": "stream",
     "text": [
      "/home/master/anaconda3/envs/py37/lib/python3.7/site-packages/ipykernel_launcher.py:5: SettingWithCopyWarning: \n",
      "A value is trying to be set on a copy of a slice from a DataFrame\n",
      "\n",
      "See the caveats in the documentation: http://pandas.pydata.org/pandas-docs/stable/user_guide/indexing.html#returning-a-view-versus-a-copy\n",
      "  \"\"\"\n",
      "/home/master/anaconda3/envs/py37/lib/python3.7/site-packages/ipykernel_launcher.py:6: SettingWithCopyWarning: \n",
      "A value is trying to be set on a copy of a slice from a DataFrame\n",
      "\n",
      "See the caveats in the documentation: http://pandas.pydata.org/pandas-docs/stable/user_guide/indexing.html#returning-a-view-versus-a-copy\n",
      "  \n"
     ]
    }
   ],
   "source": [
    "from pandas import DataFrame\n",
    "\n",
    "for i in list(sample_hwp_list.index):\n",
    "    \n",
    "    sample_hwp_list[i] = \"https://s3.ap-northeast-2.amazonaws.com/mathflat\"+sample_hwp_list[i]+\"p.hwp\"\n",
    "    sample_hwp_list[i] = sample_hwp_list[i].replace(\"math_problems\",\"math_problems/hwp\")\n"
   ]
  },
  {
   "cell_type": "code",
   "execution_count": 6,
   "metadata": {},
   "outputs": [],
   "source": [
    "import pandas as pd\n",
    "\n",
    "text_df = pd.DataFrame(index=list(sample_hwp_list.index), columns=['text','tokenized'])"
   ]
  },
  {
   "cell_type": "code",
   "execution_count": 7,
   "metadata": {},
   "outputs": [
    {
     "data": {
      "text/html": [
       "<div>\n",
       "<style scoped>\n",
       "    .dataframe tbody tr th:only-of-type {\n",
       "        vertical-align: middle;\n",
       "    }\n",
       "\n",
       "    .dataframe tbody tr th {\n",
       "        vertical-align: top;\n",
       "    }\n",
       "\n",
       "    .dataframe thead th {\n",
       "        text-align: right;\n",
       "    }\n",
       "</style>\n",
       "<table border=\"1\" class=\"dataframe\">\n",
       "  <thead>\n",
       "    <tr style=\"text-align: right;\">\n",
       "      <th></th>\n",
       "      <th>text</th>\n",
       "      <th>tokenized</th>\n",
       "    </tr>\n",
       "  </thead>\n",
       "  <tbody>\n",
       "    <tr>\n",
       "      <th>39683</th>\n",
       "      <td>NaN</td>\n",
       "      <td>NaN</td>\n",
       "    </tr>\n",
       "    <tr>\n",
       "      <th>41014</th>\n",
       "      <td>NaN</td>\n",
       "      <td>NaN</td>\n",
       "    </tr>\n",
       "    <tr>\n",
       "      <th>68802</th>\n",
       "      <td>NaN</td>\n",
       "      <td>NaN</td>\n",
       "    </tr>\n",
       "    <tr>\n",
       "      <th>68803</th>\n",
       "      <td>NaN</td>\n",
       "      <td>NaN</td>\n",
       "    </tr>\n",
       "    <tr>\n",
       "      <th>68804</th>\n",
       "      <td>NaN</td>\n",
       "      <td>NaN</td>\n",
       "    </tr>\n",
       "  </tbody>\n",
       "</table>\n",
       "</div>"
      ],
      "text/plain": [
       "      text tokenized\n",
       "39683  NaN       NaN\n",
       "41014  NaN       NaN\n",
       "68802  NaN       NaN\n",
       "68803  NaN       NaN\n",
       "68804  NaN       NaN"
      ]
     },
     "execution_count": 7,
     "metadata": {},
     "output_type": "execute_result"
    }
   ],
   "source": [
    "text_df.head()"
   ]
  },
  {
   "cell_type": "code",
   "execution_count": 8,
   "metadata": {},
   "outputs": [
    {
     "data": {
      "text/plain": [
       "ID\n",
       "39683     https://s3.ap-northeast-2.amazonaws.com/mathfl...\n",
       "41014     https://s3.ap-northeast-2.amazonaws.com/mathfl...\n",
       "68802     https://s3.ap-northeast-2.amazonaws.com/mathfl...\n",
       "68803     https://s3.ap-northeast-2.amazonaws.com/mathfl...\n",
       "68804     https://s3.ap-northeast-2.amazonaws.com/mathfl...\n",
       "                                ...                        \n",
       "502085    https://s3.ap-northeast-2.amazonaws.com/mathfl...\n",
       "502089    https://s3.ap-northeast-2.amazonaws.com/mathfl...\n",
       "502090    https://s3.ap-northeast-2.amazonaws.com/mathfl...\n",
       "502091    https://s3.ap-northeast-2.amazonaws.com/mathfl...\n",
       "502092    https://s3.ap-northeast-2.amazonaws.com/mathfl...\n",
       "Name: problemURL, Length: 16318, dtype: object"
      ]
     },
     "execution_count": 8,
     "metadata": {},
     "output_type": "execute_result"
    }
   ],
   "source": [
    "sample_hwp_list"
   ]
  },
  {
   "cell_type": "markdown",
   "metadata": {},
   "source": [
    "# dataframe에 저장"
   ]
  },
  {
   "cell_type": "code",
   "execution_count": 9,
   "metadata": {},
   "outputs": [
    {
     "data": {
      "application/vnd.jupyter.widget-view+json": {
       "model_id": "6d626b41d32f46a6a98171a74e9ee05c",
       "version_major": 2,
       "version_minor": 0
      },
      "text/plain": [
       "HBox(children=(FloatProgress(value=0.0, max=16318.0), HTML(value='')))"
      ]
     },
     "metadata": {},
     "output_type": "display_data"
    },
    {
     "name": "stdout",
     "output_type": "stream",
     "text": [
      "351040 번째 한글파일은 prvtext가 없습니다.\n",
      "460721 번째 한글파일은 prvtext가 없습니다.\n",
      "\n"
     ]
    }
   ],
   "source": [
    "from urllib.request import Request, urlopen \n",
    "import olefile\n",
    "\n",
    "from tqdm import notebook\n",
    "\n",
    "for ind in notebook.tqdm(list(sample_hwp_list.index)):\n",
    "    \n",
    "    tmp = Request(sample_hwp_list[ind])\n",
    "    tmp = urlopen(tmp).read()\n",
    "    f = olefile.OleFileIO(tmp)\n",
    "    \n",
    "    try:\n",
    "        encoded_text = f.openstream('PrvText').read()\n",
    "        decoded_text = encoded_text.decode('UTF-16')\n",
    "        \n",
    "        if decoded_text[0]=='[' : #[2019년3월...]과 같은 태그가 들어있음\n",
    "            i=1\n",
    "            while True:\n",
    "                \n",
    "                if decoded_text[i]==']':\n",
    "                    decoded_text = decoded_text[i+1:]\n",
    "                    break\n",
    "                i+=1 \n",
    "            \n",
    "        text_df.loc[ind,'text'] = decoded_text\n",
    "    except:\n",
    "        print(ind,\"번째 한글파일은 prvtext가 없습니다.\")\n",
    "    "
   ]
  },
  {
   "cell_type": "code",
   "execution_count": 10,
   "metadata": {},
   "outputs": [],
   "source": [
    "text_df.rename(columns={\"tokenized\":\"twitter\"},inplace=True)"
   ]
  },
  {
   "cell_type": "code",
   "execution_count": 11,
   "metadata": {},
   "outputs": [
    {
     "name": "stderr",
     "output_type": "stream",
     "text": [
      "/home/master/anaconda3/envs/py37/lib/python3.7/site-packages/konlpy/tag/_okt.py:16: UserWarning: \"Twitter\" has changed to \"Okt\" since KoNLPy v0.4.5.\n",
      "  warn('\"Twitter\" has changed to \"Okt\" since KoNLPy v0.4.5.')\n"
     ]
    }
   ],
   "source": [
    "from konlpy.tag import Twitter\n",
    "twt = Twitter()"
   ]
  },
  {
   "cell_type": "code",
   "execution_count": 12,
   "metadata": {},
   "outputs": [
    {
     "data": {
      "application/vnd.jupyter.widget-view+json": {
       "model_id": "5db7c5c6bc184d0da1164ed8d3774748",
       "version_major": 2,
       "version_minor": 0
      },
      "text/plain": [
       "HBox(children=(FloatProgress(value=0.0, max=16318.0), HTML(value='')))"
      ]
     },
     "metadata": {},
     "output_type": "display_data"
    },
    {
     "name": "stdout",
     "output_type": "stream",
     "text": [
      "nan\n",
      "nan\n",
      "\n"
     ]
    }
   ],
   "source": [
    "\n",
    "for ind in notebook.tqdm(list(text_df.index)):\n",
    "    \n",
    "    try:\n",
    "        token = twt.pos(text_df.loc[ind,'text'])\n",
    "        token = [t[0] for t in token if t[1] in ['Noun', 'Verb', 'Adjective','Josa']]\n",
    "        text_df.loc[ind,'twitter'] = \" \".join(token)\n",
    "    except:\n",
    "        print(text_df.loc[ind,'text'])\n",
    "        pass"
   ]
  },
  {
   "cell_type": "code",
   "execution_count": 13,
   "metadata": {},
   "outputs": [],
   "source": [
    "from khaiii import KhaiiiApi\n",
    "api = KhaiiiApi()"
   ]
  },
  {
   "cell_type": "code",
   "execution_count": 171,
   "metadata": {},
   "outputs": [
    {
     "data": {
      "application/vnd.jupyter.widget-view+json": {
       "model_id": "2c18e04874f84beba8e011d55670105f",
       "version_major": 2,
       "version_minor": 0
      },
      "text/plain": [
       "HBox(children=(FloatProgress(value=0.0, max=16318.0), HTML(value='')))"
      ]
     },
     "metadata": {},
     "output_type": "display_data"
    },
    {
     "name": "stdout",
     "output_type": "stream",
     "text": [
      "98572 가 작동하지 않습니다.\n",
      "98573 가 작동하지 않습니다.\n",
      "150584 가 작동하지 않습니다.\n",
      "150585 가 작동하지 않습니다.\n",
      "281280 가 작동하지 않습니다.\n",
      "281359 가 작동하지 않습니다.\n",
      "351040 가 작동하지 않습니다.\n",
      "460721 가 작동하지 않습니다.\n",
      "\n"
     ]
    }
   ],
   "source": [
    "for ind in notebook.tqdm(list(text_df.index)):\n",
    "        \n",
    "        morphs = []\n",
    "        try:\n",
    "            for word in api.analyze(text_df.loc[ind,'text']):\n",
    "                for morph in word.morphs:\n",
    "                    if morph.tag[0] != 'S' and morph.tag[0] != 'Z' and morph.tag != 'NNP':\n",
    "                        morphs.append(morph.lex)\n",
    "    \n",
    "            text_df.loc[ind,'khaiii'] = \" \".join(morphs)\n",
    "            \n",
    "        except:\n",
    "            print(ind,\"가 작동하지 않습니다.\")\n",
    "            pass\n"
   ]
  },
  {
   "cell_type": "code",
   "execution_count": 14,
   "metadata": {},
   "outputs": [],
   "source": [
    "from sklearn.feature_extraction.text import TfidfVectorizer"
   ]
  },
  {
   "cell_type": "code",
   "execution_count": 16,
   "metadata": {},
   "outputs": [
    {
     "data": {
      "text/html": [
       "<div>\n",
       "<style scoped>\n",
       "    .dataframe tbody tr th:only-of-type {\n",
       "        vertical-align: middle;\n",
       "    }\n",
       "\n",
       "    .dataframe tbody tr th {\n",
       "        vertical-align: top;\n",
       "    }\n",
       "\n",
       "    .dataframe thead th {\n",
       "        text-align: right;\n",
       "    }\n",
       "</style>\n",
       "<table border=\"1\" class=\"dataframe\">\n",
       "  <thead>\n",
       "    <tr style=\"text-align: right;\">\n",
       "      <th></th>\n",
       "      <th>text</th>\n",
       "      <th>twitter</th>\n",
       "    </tr>\n",
       "  </thead>\n",
       "  <tbody>\n",
       "    <tr>\n",
       "      <th>502085</th>\n",
       "      <td>\\r\\n두 집합 , 에 대하여 , , 일 때, 의 값을 구하시오.\\r\\n</td>\n",
       "      <td>두 집합 에 대하 여 일 때 의 값 을 구 하시오</td>\n",
       "    </tr>\n",
       "    <tr>\n",
       "      <th>502089</th>\n",
       "      <td>\\r\\n명제 ‘어떤 실수 에 대하여 이다.’가 거짓이 되도록 하는 정수 의 최솟값을...</td>\n",
       "      <td>명제 어떤 실수 에 대하 여 이다 가 거짓 이 되도록 하는 정수 의 최 솟 값 을 ...</td>\n",
       "    </tr>\n",
       "    <tr>\n",
       "      <th>502090</th>\n",
       "      <td>\\r\\n전체집합 는  이하의 자연수의 두 부분집합 , 에 대하여 , 을 만족시키는 ...</td>\n",
       "      <td>전체집합 는 이하 의 자연수 의 두 부분집합 에 대하 여 을 만족 시키는 의 부분집...</td>\n",
       "    </tr>\n",
       "    <tr>\n",
       "      <th>502091</th>\n",
       "      <td>\\r\\n서로 다른 종류의 꽃 송이와 같은 종류의 초콜릿 개를 명의 학생에게 남김없이...</td>\n",
       "      <td>서로 다른 종류 의 꽃 송이 와 같은 종류 의 초콜릿 개 를 명의 학생 에게 나누어...</td>\n",
       "    </tr>\n",
       "    <tr>\n",
       "      <th>502092</th>\n",
       "      <td>\\r\\n함수 에 대하여 집합 에서 정의된 함수\\r\\n&lt;&gt;&lt;(인 경우)&gt;&lt;(인 경우)...</td>\n",
       "      <td>함수 에 대하 여 집합 에서 정의 된 함수 인 경우 인 경우 가 있다 자연수 에 대...</td>\n",
       "    </tr>\n",
       "  </tbody>\n",
       "</table>\n",
       "</div>"
      ],
      "text/plain": [
       "                                                     text  \\\n",
       "502085           \\r\\n두 집합 , 에 대하여 , , 일 때, 의 값을 구하시오.\\r\\n   \n",
       "502089  \\r\\n명제 ‘어떤 실수 에 대하여 이다.’가 거짓이 되도록 하는 정수 의 최솟값을...   \n",
       "502090  \\r\\n전체집합 는  이하의 자연수의 두 부분집합 , 에 대하여 , 을 만족시키는 ...   \n",
       "502091  \\r\\n서로 다른 종류의 꽃 송이와 같은 종류의 초콜릿 개를 명의 학생에게 남김없이...   \n",
       "502092  \\r\\n함수 에 대하여 집합 에서 정의된 함수\\r\\n<><(인 경우)><(인 경우)...   \n",
       "\n",
       "                                                  twitter  \n",
       "502085                        두 집합 에 대하 여 일 때 의 값 을 구 하시오  \n",
       "502089  명제 어떤 실수 에 대하 여 이다 가 거짓 이 되도록 하는 정수 의 최 솟 값 을 ...  \n",
       "502090  전체집합 는 이하 의 자연수 의 두 부분집합 에 대하 여 을 만족 시키는 의 부분집...  \n",
       "502091  서로 다른 종류 의 꽃 송이 와 같은 종류 의 초콜릿 개 를 명의 학생 에게 나누어...  \n",
       "502092  함수 에 대하 여 집합 에서 정의 된 함수 인 경우 인 경우 가 있다 자연수 에 대...  "
      ]
     },
     "execution_count": 16,
     "metadata": {},
     "output_type": "execute_result"
    }
   ],
   "source": [
    "text_df.tail()"
   ]
  },
  {
   "cell_type": "code",
   "execution_count": 219,
   "metadata": {},
   "outputs": [],
   "source": [
    "twtlist = list(text_df['twitter'])"
   ]
  },
  {
   "cell_type": "code",
   "execution_count": 220,
   "metadata": {},
   "outputs": [
    {
     "data": {
      "text/plain": [
       "13885"
      ]
     },
     "execution_count": 220,
     "metadata": {},
     "output_type": "execute_result"
    }
   ],
   "source": [
    "twtlist.index(np.nan)\n"
   ]
  },
  {
   "cell_type": "code",
   "execution_count": 18,
   "metadata": {},
   "outputs": [
    {
     "data": {
      "text/html": [
       "<div>\n",
       "<style scoped>\n",
       "    .dataframe tbody tr th:only-of-type {\n",
       "        vertical-align: middle;\n",
       "    }\n",
       "\n",
       "    .dataframe tbody tr th {\n",
       "        vertical-align: top;\n",
       "    }\n",
       "\n",
       "    .dataframe thead th {\n",
       "        text-align: right;\n",
       "    }\n",
       "</style>\n",
       "<table border=\"1\" class=\"dataframe\">\n",
       "  <thead>\n",
       "    <tr style=\"text-align: right;\">\n",
       "      <th></th>\n",
       "      <th>text</th>\n",
       "      <th>twitter</th>\n",
       "    </tr>\n",
       "  </thead>\n",
       "  <tbody>\n",
       "    <tr>\n",
       "      <th>502085</th>\n",
       "      <td>\\r\\n두 집합 , 에 대하여 , , 일 때, 의 값을 구하시오.\\r\\n</td>\n",
       "      <td>두 집합 에 대하 여 일 때 의 값 을 구 하시오</td>\n",
       "    </tr>\n",
       "    <tr>\n",
       "      <th>502089</th>\n",
       "      <td>\\r\\n명제 ‘어떤 실수 에 대하여 이다.’가 거짓이 되도록 하는 정수 의 최솟값을...</td>\n",
       "      <td>명제 어떤 실수 에 대하 여 이다 가 거짓 이 되도록 하는 정수 의 최 솟 값 을 ...</td>\n",
       "    </tr>\n",
       "    <tr>\n",
       "      <th>502090</th>\n",
       "      <td>\\r\\n전체집합 는  이하의 자연수의 두 부분집합 , 에 대하여 , 을 만족시키는 ...</td>\n",
       "      <td>전체집합 는 이하 의 자연수 의 두 부분집합 에 대하 여 을 만족 시키는 의 부분집...</td>\n",
       "    </tr>\n",
       "    <tr>\n",
       "      <th>502091</th>\n",
       "      <td>\\r\\n서로 다른 종류의 꽃 송이와 같은 종류의 초콜릿 개를 명의 학생에게 남김없이...</td>\n",
       "      <td>서로 다른 종류 의 꽃 송이 와 같은 종류 의 초콜릿 개 를 명의 학생 에게 나누어...</td>\n",
       "    </tr>\n",
       "    <tr>\n",
       "      <th>502092</th>\n",
       "      <td>\\r\\n함수 에 대하여 집합 에서 정의된 함수\\r\\n&lt;&gt;&lt;(인 경우)&gt;&lt;(인 경우)...</td>\n",
       "      <td>함수 에 대하 여 집합 에서 정의 된 함수 인 경우 인 경우 가 있다 자연수 에 대...</td>\n",
       "    </tr>\n",
       "  </tbody>\n",
       "</table>\n",
       "</div>"
      ],
      "text/plain": [
       "                                                     text  \\\n",
       "502085           \\r\\n두 집합 , 에 대하여 , , 일 때, 의 값을 구하시오.\\r\\n   \n",
       "502089  \\r\\n명제 ‘어떤 실수 에 대하여 이다.’가 거짓이 되도록 하는 정수 의 최솟값을...   \n",
       "502090  \\r\\n전체집합 는  이하의 자연수의 두 부분집합 , 에 대하여 , 을 만족시키는 ...   \n",
       "502091  \\r\\n서로 다른 종류의 꽃 송이와 같은 종류의 초콜릿 개를 명의 학생에게 남김없이...   \n",
       "502092  \\r\\n함수 에 대하여 집합 에서 정의된 함수\\r\\n<><(인 경우)><(인 경우)...   \n",
       "\n",
       "                                                  twitter  \n",
       "502085                        두 집합 에 대하 여 일 때 의 값 을 구 하시오  \n",
       "502089  명제 어떤 실수 에 대하 여 이다 가 거짓 이 되도록 하는 정수 의 최 솟 값 을 ...  \n",
       "502090  전체집합 는 이하 의 자연수 의 두 부분집합 에 대하 여 을 만족 시키는 의 부분집...  \n",
       "502091  서로 다른 종류 의 꽃 송이 와 같은 종류 의 초콜릿 개 를 명의 학생 에게 나누어...  \n",
       "502092  함수 에 대하 여 집합 에서 정의 된 함수 인 경우 인 경우 가 있다 자연수 에 대...  "
      ]
     },
     "execution_count": 18,
     "metadata": {},
     "output_type": "execute_result"
    }
   ],
   "source": [
    "text_df.tail()"
   ]
  },
  {
   "cell_type": "code",
   "execution_count": 22,
   "metadata": {},
   "outputs": [
    {
     "data": {
      "text/plain": [
       "39683     함수 일 때 모든 실수 에 대하 여 이 되는 실수 의 범위 는 단 는 와 의 합성함...\n",
       "41014     원 와 함수 의 그래프 가 만나는 두 점 을 라 하자 이 때 와 원 이 이루는 작은...\n",
       "68802     다음 중 집합 인 것 은 키 가 큰 학생 의 모임 보다 작은 자연수 의 모임 에 가...\n",
       "68803     다음 중 집합 인 것 은 예쁜 어린이 의 모임 우리 중학교 학년 반 에서 야구 를 ...\n",
       "68804     다음 중 집합 이 될 수 없는 것 은 소수 의 모임 가장 작은 자연수 의 모임 분수...\n",
       "                                ...                        \n",
       "502085                          두 집합 에 대하 여 일 때 의 값 을 구 하시오\n",
       "502089    명제 어떤 실수 에 대하 여 이다 가 거짓 이 되도록 하는 정수 의 최 솟 값 을 ...\n",
       "502090    전체집합 는 이하 의 자연수 의 두 부분집합 에 대하 여 을 만족 시키는 의 부분집...\n",
       "502091    서로 다른 종류 의 꽃 송이 와 같은 종류 의 초콜릿 개 를 명의 학생 에게 나누어...\n",
       "502092    함수 에 대하 여 집합 에서 정의 된 함수 인 경우 인 경우 가 있다 자연수 에 대...\n",
       "Name: twitter, Length: 16318, dtype: object"
      ]
     },
     "execution_count": 22,
     "metadata": {},
     "output_type": "execute_result"
    }
   ],
   "source": [
    "text_df['twitter']"
   ]
  },
  {
   "cell_type": "code",
   "execution_count": 20,
   "metadata": {},
   "outputs": [],
   "source": [
    "text_df.loc[351040,'twitter']=''\n",
    "text_df.loc[460721,'twitter']=''\n"
   ]
  },
  {
   "cell_type": "code",
   "execution_count": 24,
   "metadata": {},
   "outputs": [],
   "source": [
    "tfidv = TfidfVectorizer()\n",
    "tfidf_mat = tfidv.fit_transform(list(text_df['twitter']))"
   ]
  },
  {
   "cell_type": "code",
   "execution_count": 29,
   "metadata": {},
   "outputs": [
    {
     "data": {
      "text/plain": [
       "(16318, 4428)"
      ]
     },
     "execution_count": 29,
     "metadata": {},
     "output_type": "execute_result"
    }
   ],
   "source": [
    "data_array = tfidf_mat.toarray()\n",
    "data = pd.DataFrame(data_array, columns=tfidv.get_feature_names())\n",
    "data.shape"
   ]
  },
  {
   "cell_type": "code",
   "execution_count": 53,
   "metadata": {},
   "outputs": [],
   "source": [
    "doc_similarities = (tfidf_mat * tfidf_mat.T)"
   ]
  },
  {
   "cell_type": "code",
   "execution_count": 56,
   "metadata": {},
   "outputs": [
    {
     "name": "stdout",
     "output_type": "stream",
     "text": [
      "[[1.         0.03693296 0.         ... 0.0256986  0.         0.15700877]\n",
      " [0.03693296 1.         0.04169557 ... 0.         0.         0.23363857]\n",
      " [0.         0.04169557 1.         ... 0.02050153 0.03237569 0.02977292]\n",
      " ...\n",
      " [0.0256986  0.         0.02050153 ... 1.         0.01229423 0.15523416]\n",
      " [0.         0.         0.03237569 ... 0.01229423 1.         0.11151843]\n",
      " [0.15700877 0.23363857 0.02977292 ... 0.15523416 0.11151843 1.        ]]\n"
     ]
    }
   ],
   "source": [
    "print(doc_similarities.toarray())"
   ]
  },
  {
   "cell_type": "markdown",
   "metadata": {},
   "source": [
    "# 시각화"
   ]
  },
  {
   "cell_type": "code",
   "execution_count": 34,
   "metadata": {},
   "outputs": [],
   "source": [
    " from sklearn.manifold import TSNE"
   ]
  },
  {
   "cell_type": "code",
   "execution_count": 41,
   "metadata": {},
   "outputs": [],
   "source": [
    "tfidf_dict = tfidv.get_feature_names()"
   ]
  },
  {
   "cell_type": "code",
   "execution_count": 35,
   "metadata": {},
   "outputs": [],
   "source": [
    "tsne = TSNE(n_components=2, n_iter=10000, verbose=1)"
   ]
  },
  {
   "cell_type": "code",
   "execution_count": 36,
   "metadata": {},
   "outputs": [
    {
     "data": {
      "text/plain": [
       "(16318, 4428)"
      ]
     },
     "execution_count": 36,
     "metadata": {},
     "output_type": "execute_result"
    }
   ],
   "source": [
    "data_array.shape"
   ]
  },
  {
   "cell_type": "code",
   "execution_count": 37,
   "metadata": {},
   "outputs": [
    {
     "data": {
      "text/plain": [
       "(4428, 16318)"
      ]
     },
     "execution_count": 37,
     "metadata": {},
     "output_type": "execute_result"
    }
   ],
   "source": [
    "data_array.T.shape"
   ]
  },
  {
   "cell_type": "code",
   "execution_count": 38,
   "metadata": {},
   "outputs": [
    {
     "name": "stdout",
     "output_type": "stream",
     "text": [
      "[t-SNE] Computing 91 nearest neighbors...\n",
      "[t-SNE] Indexed 4428 samples in 4.319s...\n",
      "[t-SNE] Computed neighbors for 4428 samples in 345.571s...\n",
      "[t-SNE] Computed conditional probabilities for sample 1000 / 4428\n",
      "[t-SNE] Computed conditional probabilities for sample 2000 / 4428\n",
      "[t-SNE] Computed conditional probabilities for sample 3000 / 4428\n",
      "[t-SNE] Computed conditional probabilities for sample 4000 / 4428\n",
      "[t-SNE] Computed conditional probabilities for sample 4428 / 4428\n",
      "[t-SNE] Mean sigma: 0.106316\n",
      "[t-SNE] KL divergence after 250 iterations with early exaggeration: 119.060303\n",
      "[t-SNE] KL divergence after 4150 iterations: 1.769895\n"
     ]
    }
   ],
   "source": [
    "Z = tsne.fit_transform(data_array.T)"
   ]
  },
  {
   "cell_type": "code",
   "execution_count": 45,
   "metadata": {},
   "outputs": [
    {
     "data": {
      "image/png": "[encoded data removed]",
      "text/plain": [
       "<Figure size 720x720 with 1 Axes>"
      ]
     },
     "metadata": {
      "needs_background": "light"
     },
     "output_type": "display_data"
    }
   ],
   "source": [
    "import matplotlib.pyplot as plt\n",
    "import matplotlib.font_manager as fm\n",
    "\n",
    "plt.rcParams[\"figure.figsize\"] = (10,10)\n",
    "path = '/usr/share/fonts/truetype/nanum/NanumMyeongjo.ttf'\n",
    "fontprop = fm.FontProperties(fname=path, size=10)\n",
    "plt.scatter(Z[:,0], Z[:,1])\n",
    "for i in range(len(tfidf_dict)):\n",
    "    plt.annotate(s=tfidf_dict[i].encode(\"utf8\").decode(\"utf8\"), xy=(Z[i,0], Z[i,1]),fontProperties =fontprop)\n",
    "\n",
    "plt.draw()"
   ]
  },
  {
   "cell_type": "markdown",
   "metadata": {},
   "source": [
    "# hwp파일 불러와서 text에 저장"
   ]
  },
  {
   "cell_type": "code",
   "execution_count": null,
   "metadata": {},
   "outputs": [],
   "source": [
    "from urllib.request import Request, urlopen \n",
    "import olefile\n",
    "\n",
    "# header = {'User-Agent': 'Mozilla/5.0'}\n",
    "with open(\"hwptest1.txt\", mode=\"w\") as file:\n",
    "    \n",
    "    file.write(\"START\\n\")\n",
    "    \n",
    "    for u in sample_hwp_list:\n",
    "\n",
    "        temp = Request(u)\n",
    "        \n",
    "        try:\n",
    "            temp = urlopen(temp).read()\n",
    "        \n",
    "            f = olefile.OleFileIO(temp)\n",
    "        \n",
    "    \n",
    "            encoded_text = f.openstream('PrvText').read()\n",
    "            decoded_text = encoded_text.decode('UTF-16')\n",
    "        \n",
    "            file.writelines(decoded_text)\n",
    "            file.write(\"\\n\")\n",
    "        \n",
    "        except:\n",
    "            print(u,\"을 불러올 수 없습니다.\")\n",
    "        \n",
    "    file.write(\"END\")"
   ]
  },
  {
   "cell_type": "code",
   "execution_count": 20,
   "metadata": {},
   "outputs": [],
   "source": [
    "from konlpy.tag import Okt\n",
    "\n",
    "okt = Okt()"
   ]
  },
  {
   "cell_type": "code",
   "execution_count": 21,
   "metadata": {},
   "outputs": [
    {
     "data": {
      "text/plain": [
       "[('에', 'Josa'),\n",
       " ('자연수', 'Noun'),\n",
       " ('를', 'Josa'),\n",
       " ('곱', 'Noun'),\n",
       " ('하다', 'Verb'),\n",
       " ('어떻다', 'Adjective'),\n",
       " ('수의', 'Noun'),\n",
       " ('제곱', 'Noun'),\n",
       " ('이', 'Josa'),\n",
       " ('되다', 'Verb'),\n",
       " ('하다', 'Verb'),\n",
       " ('하다', 'Verb'),\n",
       " ('.', 'Punctuation'),\n",
       " ('제곱', 'Noun'),\n",
       " ('이', 'Josa'),\n",
       " ('되다', 'Verb'),\n",
       " ('하다', 'Verb'),\n",
       " ('위해', 'Noun'),\n",
       " ('서', 'Josa'),\n",
       " ('곱', 'Noun'),\n",
       " ('하다', 'Verb'),\n",
       " ('수', 'Noun'),\n",
       " ('중', 'Noun'),\n",
       " ('첫', 'Noun'),\n",
       " ('번', 'Noun'),\n",
       " ('째', 'Suffix'),\n",
       " ('로', 'Josa'),\n",
       " ('작다', 'Adjective'),\n",
       " ('수', 'Noun'),\n",
       " ('와', 'Josa'),\n",
       " ('세', 'Noun'),\n",
       " ('번', 'Noun'),\n",
       " ('째', 'Suffix'),\n",
       " ('로', 'Josa'),\n",
       " ('작다', 'Adjective'),\n",
       " ('수', 'Noun'),\n",
       " ('를', 'Josa'),\n",
       " ('구', 'Noun'),\n",
       " ('하다', 'Verb'),\n",
       " ('.', 'Punctuation'),\n",
       " ('\\r\\n', 'Foreign')]"
      ]
     },
     "execution_count": 21,
     "metadata": {},
     "output_type": "execute_result"
    }
   ],
   "source": [
    "okt.pos(decoded_text,norm=True,stem = True) "
   ]
  },
  {
   "cell_type": "code",
   "execution_count": 25,
   "metadata": {},
   "outputs": [],
   "source": [
    "from soynlp.noun import LRNounExtractor"
   ]
  },
  {
   "cell_type": "code",
   "execution_count": 26,
   "metadata": {},
   "outputs": [
    {
     "name": "stderr",
     "output_type": "stream",
     "text": [
      "/home/master/anaconda3/envs/py37/lib/python3.7/site-packages/soynlp/tokenizer/_tokenizer.py:19: FutureWarning: Possible nested set at position 13\n",
      "  ('english & latin', re.compile(u\"[a-zA-ZÀ-ÿ]+[[`']?s]*|[a-zA-ZÀ-ÿ]+\", re.UNICODE))\n"
     ]
    }
   ],
   "source": [
    "from soynlp.tokenizer import RegexTokenizer, LTokenizer, MaxScoreTokenizer\n",
    "\n",
    "tokenizer = RegexTokenizer()"
   ]
  },
  {
   "cell_type": "code",
   "execution_count": 25,
   "metadata": {},
   "outputs": [],
   "source": [
    "decoded_text ='에 자연수를 곱하여 어떤 수의 제곱이 되도록 하려고 한다. 제곱이 되도록 하기 위해서 곱하는 수 중 첫 번째로 작은 수와 세 번째로 작은 수를 구하시오.\\r\\n'"
   ]
  },
  {
   "cell_type": "code",
   "execution_count": 29,
   "metadata": {},
   "outputs": [
    {
     "ename": "TypeError",
     "evalue": "tokenize() got an unexpected keyword argument 'stem'",
     "output_type": "error",
     "traceback": [
      "\u001b[0;31m---------------------------------------------------------------------------\u001b[0m",
      "\u001b[0;31mTypeError\u001b[0m                                 Traceback (most recent call last)",
      "\u001b[0;32m<ipython-input-29-2cdbd696220c>\u001b[0m in \u001b[0;36m<module>\u001b[0;34m\u001b[0m\n\u001b[0;32m----> 1\u001b[0;31m \u001b[0mtokened_title\u001b[0m \u001b[0;34m=\u001b[0m \u001b[0mtokenizer\u001b[0m\u001b[0;34m.\u001b[0m\u001b[0mtokenize\u001b[0m\u001b[0;34m(\u001b[0m\u001b[0mdecoded_text\u001b[0m\u001b[0;34m,\u001b[0m\u001b[0mstem\u001b[0m\u001b[0;34m=\u001b[0m\u001b[0;32mTrue\u001b[0m\u001b[0;34m)\u001b[0m\u001b[0;34m\u001b[0m\u001b[0;34m\u001b[0m\u001b[0m\n\u001b[0m",
      "\u001b[0;31mTypeError\u001b[0m: tokenize() got an unexpected keyword argument 'stem'"
     ]
    }
   ],
   "source": [
    "tokened_title = tokenizer.tokenize(decoded_text,stem=True)"
   ]
  },
  {
   "cell_type": "code",
   "execution_count": 28,
   "metadata": {},
   "outputs": [
    {
     "name": "stdout",
     "output_type": "stream",
     "text": [
      "['에', '자연수를', '곱하여', '어떤', '수의', '제곱이', '되도록', '하려고', '한다', '.', '제곱이', '되도록', '하기', '위해서', '곱하는', '수', '중', '첫', '번째로', '작은', '수와', '세', '번째로', '작은', '수를', '구하시오', '.']\n"
     ]
    }
   ],
   "source": [
    "print(tokened_title)"
   ]
  },
  {
   "cell_type": "code",
   "execution_count": 51,
   "metadata": {},
   "outputs": [
    {
     "name": "stdout",
     "output_type": "stream",
     "text": [
      "Requirement already satisfied: eunjeon in /home/master/anaconda3/envs/py37/lib/python3.7/site-packages (0.4.0)\r\n"
     ]
    }
   ],
   "source": [
    "!pip install eunjeon"
   ]
  },
  {
   "cell_type": "code",
   "execution_count": 52,
   "metadata": {},
   "outputs": [],
   "source": [
    "from konlpy.tag import Twitter"
   ]
  },
  {
   "cell_type": "code",
   "execution_count": 54,
   "metadata": {},
   "outputs": [],
   "source": [
    "twt = Twitter()\n",
    "tagging = twt.pos(decoded_text)"
   ]
  },
  {
   "cell_type": "code",
   "execution_count": 55,
   "metadata": {},
   "outputs": [
    {
     "data": {
      "text/plain": [
       "[('에', 'Josa'),\n",
       " ('자연수', 'Noun'),\n",
       " ('를', 'Josa'),\n",
       " ('곱', 'Noun'),\n",
       " ('하여', 'Verb'),\n",
       " ('어떤', 'Adjective'),\n",
       " ('수의', 'Noun'),\n",
       " ('제곱', 'Noun'),\n",
       " ('이', 'Josa'),\n",
       " ('되도록', 'Verb'),\n",
       " ('하려고', 'Verb'),\n",
       " ('한다', 'Verb'),\n",
       " ('.', 'Punctuation'),\n",
       " ('제곱', 'Noun'),\n",
       " ('이', 'Josa'),\n",
       " ('되도록', 'Verb'),\n",
       " ('하기', 'Verb'),\n",
       " ('위해', 'Noun'),\n",
       " ('서', 'Josa'),\n",
       " ('곱', 'Noun'),\n",
       " ('하는', 'Verb'),\n",
       " ('수', 'Noun'),\n",
       " ('중', 'Noun'),\n",
       " ('첫', 'Noun'),\n",
       " ('번', 'Noun'),\n",
       " ('째', 'Suffix'),\n",
       " ('로', 'Josa'),\n",
       " ('작은', 'Adjective'),\n",
       " ('수', 'Noun'),\n",
       " ('와', 'Josa'),\n",
       " ('세', 'Noun'),\n",
       " ('번', 'Noun'),\n",
       " ('째', 'Suffix'),\n",
       " ('로', 'Josa'),\n",
       " ('작은', 'Adjective'),\n",
       " ('수', 'Noun'),\n",
       " ('를', 'Josa'),\n",
       " ('구', 'Noun'),\n",
       " ('하시오', 'Verb'),\n",
       " ('.', 'Punctuation'),\n",
       " ('\\r\\n', 'Foreign')]"
      ]
     },
     "execution_count": 55,
     "metadata": {},
     "output_type": "execute_result"
    }
   ],
   "source": [
    "tagging"
   ]
  },
  {
   "cell_type": "code",
   "execution_count": 56,
   "metadata": {},
   "outputs": [],
   "source": [
    "from konlpy.tag import Kkma\n",
    "from konlpy.tag import Komoran\n",
    "from konlpy.tag import Hannanum\n",
    "\n",
    "kkma = Kkma()\n",
    "kom = Komoran()\n",
    "hann = Hannanum()"
   ]
  },
  {
   "cell_type": "code",
   "execution_count": 57,
   "metadata": {},
   "outputs": [
    {
     "data": {
      "text/plain": [
       "[('에', 'JC'),\n",
       " ('자연수', 'NNG'),\n",
       " ('를', 'JKO'),\n",
       " ('곱하', 'VV'),\n",
       " ('여', 'ECS'),\n",
       " ('어떤', 'MDT'),\n",
       " ('수의', 'NNG'),\n",
       " ('제곱', 'NNG'),\n",
       " ('이', 'JKC'),\n",
       " ('되', 'VV'),\n",
       " ('도록', 'ECD'),\n",
       " ('하', 'VV'),\n",
       " ('려고', 'ECD'),\n",
       " ('하', 'VV'),\n",
       " ('ㄴ다', 'EFN'),\n",
       " ('.', 'SF'),\n",
       " ('제곱', 'NNG'),\n",
       " ('이', 'JKC'),\n",
       " ('되', 'VV'),\n",
       " ('도록', 'ECD'),\n",
       " ('하', 'VV'),\n",
       " ('기', 'ETN'),\n",
       " ('위하', 'VV'),\n",
       " ('어서', 'ECD'),\n",
       " ('곱하', 'VV'),\n",
       " ('는', 'ETD'),\n",
       " ('수', 'NNB'),\n",
       " ('중', 'NNB'),\n",
       " ('첫', 'MDT'),\n",
       " ('번째', 'NNB'),\n",
       " ('로', 'JKM'),\n",
       " ('작', 'VA'),\n",
       " ('은', 'ETD'),\n",
       " ('수', 'NNB'),\n",
       " ('와', 'JKM'),\n",
       " ('세', 'MDN'),\n",
       " ('번째', 'NNB'),\n",
       " ('로', 'JKM'),\n",
       " ('작', 'VA'),\n",
       " ('은', 'ETD'),\n",
       " ('수', 'NNB'),\n",
       " ('를', 'JKO'),\n",
       " ('구하', 'VV'),\n",
       " ('시', 'EPH'),\n",
       " ('오', 'EFN'),\n",
       " ('.', 'SF')]"
      ]
     },
     "execution_count": 57,
     "metadata": {},
     "output_type": "execute_result"
    }
   ],
   "source": [
    "kkma_tagger = kkma.pos(decoded_text)\n",
    "kkma_tagger"
   ]
  },
  {
   "cell_type": "code",
   "execution_count": 66,
   "metadata": {},
   "outputs": [
    {
     "data": {
      "text/plain": [
       "[('에', 'JKB'),\n",
       " ('자연수', 'NNP'),\n",
       " ('를', 'JKO'),\n",
       " ('곱하', 'VV'),\n",
       " ('아', 'EC'),\n",
       " ('어떤', 'MM'),\n",
       " ('수', 'NNB'),\n",
       " ('의', 'JKG'),\n",
       " ('제곱', 'NNG'),\n",
       " ('이', 'JKS'),\n",
       " ('되', 'VV'),\n",
       " ('도록', 'EC'),\n",
       " ('하', 'VV'),\n",
       " ('려고', 'EC'),\n",
       " ('하', 'VX'),\n",
       " ('ㄴ다', 'EF'),\n",
       " ('.', 'SF'),\n",
       " ('제곱', 'NNG'),\n",
       " ('이', 'JKS'),\n",
       " ('되', 'VV'),\n",
       " ('도록', 'EC'),\n",
       " ('하', 'VV'),\n",
       " ('기', 'ETN'),\n",
       " ('위하', 'VV'),\n",
       " ('아서', 'EC'),\n",
       " ('곱하', 'VV'),\n",
       " ('는', 'ETM'),\n",
       " ('수', 'NNB'),\n",
       " ('중', 'NNB'),\n",
       " ('첫', 'MM'),\n",
       " ('번', 'NNB'),\n",
       " ('째', 'XSN'),\n",
       " ('로', 'JKB'),\n",
       " ('작은 수', 'NNP'),\n",
       " ('와', 'JC'),\n",
       " ('세', 'MM'),\n",
       " ('번', 'NNB'),\n",
       " ('째', 'XSN'),\n",
       " ('로', 'JKB'),\n",
       " ('작은 수', 'NNP'),\n",
       " ('를', 'JKO'),\n",
       " ('구하', 'VV'),\n",
       " ('시', 'EP'),\n",
       " ('오', 'EF'),\n",
       " ('.', 'SF')]"
      ]
     },
     "execution_count": 66,
     "metadata": {},
     "output_type": "execute_result"
    }
   ],
   "source": [
    "sentance = decoded_text\n",
    "kom_tagger = kom.pos(sentance)\n",
    "kom_tagger"
   ]
  },
  {
   "cell_type": "code",
   "execution_count": 60,
   "metadata": {},
   "outputs": [
    {
     "data": {
      "text/plain": [
       "[('에', 'P'),\n",
       " ('어', 'E'),\n",
       " ('자연수', 'N'),\n",
       " ('를', 'J'),\n",
       " ('곱', 'N'),\n",
       " ('하', 'X'),\n",
       " ('어', 'E'),\n",
       " ('어떤', 'M'),\n",
       " ('수', 'N'),\n",
       " ('의', 'J'),\n",
       " ('제곱', 'N'),\n",
       " ('이', 'J'),\n",
       " ('되', 'P'),\n",
       " ('도록', 'E'),\n",
       " ('하', 'P'),\n",
       " ('려고', 'E'),\n",
       " ('하', 'P'),\n",
       " ('ㄴ다', 'E'),\n",
       " ('.', 'S'),\n",
       " ('제곱', 'N'),\n",
       " ('이', 'J'),\n",
       " ('되', 'P'),\n",
       " ('도록', 'E'),\n",
       " ('하', 'P'),\n",
       " ('기', 'E'),\n",
       " ('위하', 'P'),\n",
       " ('어서', 'E'),\n",
       " ('곱', 'N'),\n",
       " ('하', 'X'),\n",
       " ('는', 'E'),\n",
       " ('수', 'N'),\n",
       " ('중', 'N'),\n",
       " ('첫', 'N'),\n",
       " ('번', 'N'),\n",
       " ('째', 'X'),\n",
       " ('로', 'J'),\n",
       " ('작', 'P'),\n",
       " ('은', 'E'),\n",
       " ('수', 'N'),\n",
       " ('와', 'J'),\n",
       " ('세', 'N'),\n",
       " ('번', 'N'),\n",
       " ('째', 'X'),\n",
       " ('로', 'J'),\n",
       " ('작', 'P'),\n",
       " ('은', 'E'),\n",
       " ('수', 'N'),\n",
       " ('를', 'J'),\n",
       " ('구하', 'P'),\n",
       " ('시오', 'E'),\n",
       " ('.', 'S')]"
      ]
     },
     "execution_count": 60,
     "metadata": {},
     "output_type": "execute_result"
    }
   ],
   "source": [
    "hann_tagger = hann.pos(sentance)\n",
    "hann_tagger"
   ]
  },
  {
   "cell_type": "code",
   "execution_count": 61,
   "metadata": {},
   "outputs": [],
   "source": [
    "kkma = Kkma()\n",
    "kom = Komoran()\n",
    "hann = Hannanum()\n",
    "kkma_nouns = [n for n, tag in kkma_tagger if tag == 'Noun']\n",
    "kom_nouns = [n for n, tag in kom_tagger if tag == 'Noun']\n",
    "hann_nouns = [n for n, tag in hann_tagger if tag == 'Noun']"
   ]
  },
  {
   "cell_type": "code",
   "execution_count": 63,
   "metadata": {},
   "outputs": [],
   "source": [
    "twt_nouns = [n for n, tag in tagging if tag == 'Noun']"
   ]
  },
  {
   "cell_type": "code",
   "execution_count": 64,
   "metadata": {},
   "outputs": [
    {
     "data": {
      "text/plain": [
       "['자연수',\n",
       " '곱',\n",
       " '수의',\n",
       " '제곱',\n",
       " '제곱',\n",
       " '위해',\n",
       " '곱',\n",
       " '수',\n",
       " '중',\n",
       " '첫',\n",
       " '번',\n",
       " '수',\n",
       " '세',\n",
       " '번',\n",
       " '수',\n",
       " '구']"
      ]
     },
     "execution_count": 64,
     "metadata": {},
     "output_type": "execute_result"
    }
   ],
   "source": [
    "twt_nouns"
   ]
  },
  {
   "cell_type": "code",
   "execution_count": null,
   "metadata": {},
   "outputs": [],
   "source": []
  }
 ],
 "metadata": {
  "kernelspec": {
   "display_name": "Python 3",
   "language": "python",
   "name": "python3"
  },
  "language_info": {
   "codemirror_mode": {
    "name": "ipython",
    "version": 3
   },
   "file_extension": ".py",
   "mimetype": "text/x-python",
   "name": "python",
   "nbconvert_exporter": "python",
   "pygments_lexer": "ipython3",
   "version": "3.7.8"
  }
 },
 "nbformat": 4,
 "nbformat_minor": 4
}
